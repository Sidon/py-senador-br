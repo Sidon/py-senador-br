{
 "cells": [
  {
   "cell_type": "code",
   "execution_count": 1,
   "metadata": {
    "collapsed": false
   },
   "outputs": [],
   "source": [
    "from sqlalchemy import create_engine\n",
    "from sqlalchemy.ext.declarative import declarative_base\n",
    "from sqlalchemy import Column, Integer, String, DateTime, ForeignKey\n",
    "from sqlalchemy.orm import sessionmaker\n",
    "from urllib.request import urlopen\n",
    "from datetime import datetime\n",
    "import xmltodict"
   ]
  },
  {
   "cell_type": "code",
   "execution_count": 2,
   "metadata": {
    "collapsed": false
   },
   "outputs": [],
   "source": [
    "file = 'sqlite://'\n",
    "\n",
    "engine = create_engine(file, echo=False)\n",
    "Session = sessionmaker(bind=engine)\n",
    "session = Session\n",
    "Base = declarative_base(engine)"
   ]
  },
  {
   "cell_type": "code",
   "execution_count": 3,
   "metadata": {
    "collapsed": false
   },
   "outputs": [],
   "source": [
    "class Parlamentar(Base):\n",
    "    __tablename__ = 'parlamentar'\n",
    "    id = Column(Integer, primary_key=True)\n",
    "    codigo = Column(String(4))\n",
    "    name = Column(String(70))\n",
    "    fullname = Column(String(70))\n",
    "    sexo = Column(String(1))\n",
    "    tratamento = Column(String(5))\n",
    "    urlfoto = Column(String(255))\n",
    "    urlpagina = Column(String(255))\n",
    "    email = Column(String(255))\n",
    "    partido = Column(String(6))\n",
    "    uf = Column(String(2))\n",
    "    \n",
    "    def __repr__(self):\n",
    "        return self.fullname\n",
    "\n",
    "    \n",
    "class Mandato(Base):\n",
    "    __tablename__ = 'mandato'\n",
    "    id = Column(Integer, primary_key=True)\n",
    "    parlamentar_id = Column(Integer, ForeignKey('parlamentar.id'))\n",
    "    codigo = Column(String(3))\n",
    "    uf = Column(String(2))\n",
    "    num_legis1 = Column(String(5))\n",
    "    inicio_legis1 = Column(DateTime)\n",
    "    fim_legis1 = Column(DateTime)\n",
    "    num_legis2 = Column(String(5))\n",
    "    inicio_legis2 = Column(DateTime)\n",
    "    fim_legis2 = Column(DateTime)\n",
    "    desc_participacao = Column(String(30))\n",
    "    nome_suplente1 = Column(String(70))\n",
    "    codigo_suplente1 = Column(String(6))\n",
    "    participacao_suplente1 = Column(String(20))\n",
    "    nome_suplente2 = Column(String(70))\n",
    "    codigo_suplente2 = Column(String(6))\n",
    "    participacao_suplente2 = Column(String(20))\n",
    "\n",
    "    \n",
    "class Exercicio(Base):\n",
    "    __tablename__ = 'exercicio'\n",
    "    id = Column(Integer, primary_key=True)\n",
    "    parlamentar_id = Column(Integer, ForeignKey('parlamentar.id'))\n",
    "    mandato_id = Column(Integer, ForeignKey('mandato.id'))\n",
    "    codigo = Column(String(6))\n",
    "    inicio = Column(DateTime)\n",
    "    fim = Column(DateTime)\n",
    "    sigla_afastamento = Column(String(6))\n",
    "    causa_afastamento = Column(String(255))   \n",
    "\n",
    "# Criação das tabelas\n",
    "Base.metadata.create_all()"
   ]
  },
  {
   "cell_type": "code",
   "execution_count": 4,
   "metadata": {
    "collapsed": true
   },
   "outputs": [],
   "source": [
    "path = 'http://legis.senado.gov.br/dadosabertos/senador/lista/atual'\n",
    "data = xmltodict.parse(urlopen(path).read())\n",
    "fmt = '%Y-%m-%d'"
   ]
  },
  {
   "cell_type": "code",
   "execution_count": 5,
   "metadata": {
    "collapsed": true
   },
   "outputs": [],
   "source": [
    "def save_exercicio(mdex, id_parlamentar, id_mandato):\n",
    "    exercicio = Exercicio()\n",
    "    exercicio.codigo = mdex['CodigoExercicio']\n",
    "    exercicio.parlamentar_id = id_parlamentar\n",
    "    exercicio.mandato_id = id_mandato\n",
    "    exercicio.inicio = datetime.strptime(mdex['DataInicio'], fmt)\n",
    "                            \n",
    "    if 'DataFim' in mdex.keys():\n",
    "        exercicio.fim = datetime.strptime(mdex['DataFim'], fmt)\n",
    "        exercicio.sigla_afastamento = mdex['SiglaCausaAfastamento']\n",
    "        exercicio.causa_afastamento = mdex['DescricaoCausaAfastamento']\n",
    "        \n",
    "    session = Session()\n",
    "    session.add(exercicio)\n",
    "    session.commit()\n",
    "    session.close()"
   ]
  },
  {
   "cell_type": "code",
   "execution_count": 6,
   "metadata": {
    "collapsed": false
   },
   "outputs": [],
   "source": [
    "for p in data['ListaParlamentarEmExercicio']['Parlamentares']['Parlamentar']:\n",
    "    parlamentar = Parlamentar()\n",
    "    id = p['IdentificacaoParlamentar']\n",
    "    parlamentar.codigo = id['CodigoParlamentar']\n",
    "    parlamentar.name = id['NomeParlamentar']\n",
    "    parlamentar.fullname = id['NomeCompletoParlamentar']\n",
    "    parlamentar.sexo = id['SexoParlamentar']\n",
    "    parlamentar.tratamento = id['FormaTratamento']\n",
    "    parlamentar.urlfoto = id['UrlFotoParlamentar']\n",
    "    parlamentar.urlpagina = id['UrlPaginaParlamentar']\n",
    "    parlamentar.email = id['EmailParlamentar']\n",
    "    parlamentar.partido = id['SiglaPartidoParlamentar']\n",
    "    parlamentar.uf = id['UfParlamentar']\n",
    "    \n",
    "    # print ('Nome Paralamentar ===> ',parlamentar.name)\n",
    "    \n",
    "    session = Session()\n",
    "    session.add(parlamentar)\n",
    "    session.commit()\n",
    "    id_parlamentar = parlamentar.id\n",
    "    session.close()\n",
    "   \n",
    "    mandato = Mandato()\n",
    "    md  = p['Mandato']\n",
    "    md1 = md['PrimeiraLegislaturaDoMandato']\n",
    "    md2 = md['SegundaLegislaturaDoMandato']\n",
    "    mandato.codigo = md['CodigoMandato']\n",
    "    mandato.uf = md['UfParlamentar']\n",
    "       \n",
    "    mandato.num_legis1 = md1['NumeroLegislatura']\n",
    "    mandato.inicio_legis1 = datetime.strptime(md1['DataInicio'], fmt)\n",
    "    mandato.fim_legis1 = datetime.strptime(md1['DataFim'], fmt)\n",
    "                                           \n",
    "    mandato.num_legis2 = md2['NumeroLegislatura']\n",
    "    mandato.inicio_legis2 = datetime.strptime(md2['DataInicio'], fmt)\n",
    "    mandato.fim_legis2 = datetime.strptime(md2['DataFim'], fmt)\n",
    "    \n",
    "    mds = md['Suplentes']\n",
    "    for suplente in mds.keys():\n",
    "        if type(mds[suplente])==list:\n",
    "            mandato.nome_suplente1 = mds[suplente][0]['NomeParlamentar']\n",
    "            mandato.codigo_suplente1 = mds[suplente][0]['CodigoParlamentar']\n",
    "            mandato.participacao_suplente1 = mds[suplente][0]['DescricaoParticipacao']\n",
    "            mandato.nome_suplente2 = mds[suplente][1]['NomeParlamentar']\n",
    "            mandato.codigo_suplente2 = mds[suplente][1]['CodigoParlamentar']\n",
    "            mandato.participacao_suplente2 = mds[suplente][1]['DescricaoParticipacao']\n",
    "        else:\n",
    "            mandato.nome_suplente1 = mds[suplente]['NomeParlamentar']\n",
    "            mandato.codigo_suplente1 = mds[suplente]['CodigoParlamentar']\n",
    "            mandato.participacao_suplente1 = mds[suplente]['DescricaoParticipacao']\n",
    "    \n",
    "    mandato.parlamentar_id = id_parlamentar\n",
    "    \n",
    "    session = Session()\n",
    "    session.add(mandato)\n",
    "    session.commit()\n",
    "    id_mandato = mandato.id\n",
    "    session.close()\n",
    "\n",
    "    \n",
    "    mde = md['Exercicios']\n",
    "    for ex in mde.keys():\n",
    "        if type(md['Exercicios'][ex])!=list:\n",
    "            save_exercicio(md['Exercicios'][ex], id_parlamentar, id_mandato)                \n",
    "        else:\n",
    "            for e in md['Exercicios'][ex]:\n",
    "                save_exercicio(e, id_parlamentar, id_mandato)"
   ]
  },
  {
   "cell_type": "code",
   "execution_count": 7,
   "metadata": {
    "collapsed": false
   },
   "outputs": [],
   "source": [
    "def get_parlamentar(_name, scope=None):\n",
    "    session = Session()\n",
    "\n",
    "    if scope is None:\n",
    "        parlamentar = session.query(Parlamentar).filter_by(name=_name)[0]\n",
    "        mandato = session.query(Mandato).filter_by(parlamentar_id=parlamentar.id)[0]\n",
    "        ex = session.query(Exercicio).filter_by(parlamentar_id=parlamentar.id)\n",
    "        exercicios = [e for e in ex]\n",
    "        dictp = dict(parlamentar = parlamentar, mandato = mandato, exercicios = exercicios)\n",
    "    else:\n",
    "        dictp = session.query(Parlamentar).filter(Parlamentar.name.like('%'+_name+'%')).all()\n",
    "    return dictp"
   ]
  },
  {
   "cell_type": "code",
   "execution_count": 8,
   "metadata": {
    "collapsed": false
   },
   "outputs": [
    {
     "name": "stdout",
     "output_type": "stream",
     "text": [
      "# Busca pelo nome exato\n",
      "-----------------------\n",
      "Humberto Sérgio Costa Lima  |  PE\n"
     ]
    }
   ],
   "source": [
    "print ('# Busca pelo nome exato')\n",
    "print ('-----------------------')\n",
    "pl = get_parlamentar('Humberto Costa')\n",
    "print(pl['parlamentar'].fullname, ' | ',pl['mandato'].uf )"
   ]
  },
  {
   "cell_type": "code",
   "execution_count": 9,
   "metadata": {
    "collapsed": false
   },
   "outputs": [
    {
     "name": "stdout",
     "output_type": "stream",
     "text": [
      "\n",
      "# Busca no estilo like\n",
      "----------------------\n",
      "Resultado:\n",
      "Paulo Roberto Bauer  |  SC\n",
      "Paulo Renato Paim  |  RS\n",
      "Paulo Roberto Galvão da Rocha  |  PA\n"
     ]
    }
   ],
   "source": [
    "print ('\\n# Busca no estilo like')\n",
    "print ('----------------------')\n",
    "pl = get_parlamentar('Paulo', 'like')\n",
    "print ('Resultado:')\n",
    "for p in pl:\n",
    "    print (p.fullname, ' | ', p.uf)"
   ]
  }
 ],
 "metadata": {
  "kernelspec": {
   "display_name": "Python 3",
   "language": "python",
   "name": "python3"
  },
  "language_info": {
   "codemirror_mode": {
    "name": "ipython",
    "version": 3
   },
   "file_extension": ".py",
   "mimetype": "text/x-python",
   "name": "python",
   "nbconvert_exporter": "python",
   "pygments_lexer": "ipython3",
   "version": "3.6.0"
  }
 },
 "nbformat": 4,
 "nbformat_minor": 0
}
