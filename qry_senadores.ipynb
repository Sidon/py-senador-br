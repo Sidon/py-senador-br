{
 "cells": [
  {
   "cell_type": "code",
   "execution_count": 1,
   "metadata": {
    "collapsed": true
   },
   "outputs": [],
   "source": [
    "from popula_db import GetXMLandSave\n",
    "from datetime import datetime as dt\n",
    "from tabulate import tabulate, tabulate_formats"
   ]
  },
  {
   "cell_type": "code",
   "execution_count": 2,
   "metadata": {
    "collapsed": true
   },
   "outputs": [],
   "source": [
    "gxml  = GetXMLandSave()"
   ]
  },
  {
   "cell_type": "code",
   "execution_count": 3,
   "metadata": {
    "collapsed": false
   },
   "outputs": [
    {
     "name": "stdout",
     "output_type": "stream",
     "text": [
      "# Busca pelo nome exato\n",
      "-----------------------\n",
      "╒════════════════════════════╤══════╤════════════╕\n",
      "│ Full Namme                 │ UF   │ Incio      │\n",
      "╞════════════════════════════╪══════╪════════════╡\n",
      "│ Humberto Sérgio Costa Lima │ PE   │ 2011-02-01 │\n",
      "╘════════════════════════════╧══════╧════════════╛\n"
     ]
    }
   ],
   "source": [
    "print ('# Busca pelo nome exato')\n",
    "print ('-----------------------')\n",
    "pl = gxml.get_parlamentar('Humberto Costa')\n",
    "\n",
    "headers = ['Full Namme', 'UF', 'Incio']\n",
    "prl = [pl['parlamentar'].fullname, pl['mandato'].uf, dt.date(pl['mandato'].inicio_legis1)]\n",
    "print (tabulate([prl], tablefmt=\"fancy_grid\", headers=headers))"
   ]
  },
  {
   "cell_type": "code",
   "execution_count": 4,
   "metadata": {
    "collapsed": false
   },
   "outputs": [
    {
     "name": "stdout",
     "output_type": "stream",
     "text": [
      "\n",
      "# Busca no estilo like\n",
      "----------------------\n",
      "╒═══════════════════════════════╤══════╤════════════╕\n",
      "│ Full Namme                    │ UF   │ Incio      │\n",
      "╞═══════════════════════════════╪══════╪════════════╡\n",
      "│ Paulo Roberto Bauer           │ SC   │ 2011-02-01 │\n",
      "├───────────────────────────────┼──────┼────────────┤\n",
      "│ Paulo Renato Paim             │ RS   │ 2011-02-01 │\n",
      "├───────────────────────────────┼──────┼────────────┤\n",
      "│ Paulo Roberto Galvão da Rocha │ PA   │ 2015-02-01 │\n",
      "╘═══════════════════════════════╧══════╧════════════╛\n"
     ]
    }
   ],
   "source": [
    "print ('\\n# Busca no estilo like')\n",
    "print ('----------------------')\n",
    "pl = gxml.get_parlamentar('Paulo', 'like')\n",
    "\n",
    "prl = []\n",
    "#print (len(pl))\n",
    "for p in pl:\n",
    "    #print (p['parlamentar'].fullnamep)\n",
    "    list_temp = []\n",
    "    list_temp.append(p['parlamentar'].fullname)\n",
    "    list_temp.append(p['mandato'][0].uf)\n",
    "    list_temp.append(dt.date(p['mandato'][0].inicio_legis1))\n",
    "    prl.append(list_temp)\n",
    "\n",
    "print (tabulate(prl, tablefmt=\"fancy_grid\", headers=headers))"
   ]
  }
 ],
 "metadata": {
  "kernelspec": {
   "display_name": "Python 3",
   "language": "python",
   "name": "python3"
  },
  "language_info": {
   "codemirror_mode": {
    "name": "ipython",
    "version": 3.0
   },
   "file_extension": ".py",
   "mimetype": "text/x-python",
   "name": "python",
   "nbconvert_exporter": "python",
   "pygments_lexer": "ipython3",
   "version": "3.6.0"
  }
 },
 "nbformat": 4,
 "nbformat_minor": 0
}